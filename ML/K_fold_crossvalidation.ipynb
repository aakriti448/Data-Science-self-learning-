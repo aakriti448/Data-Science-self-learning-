{
 "cells": [
  {
   "cell_type": "markdown",
   "id": "bee67b35-6dcb-42ea-aaa5-41efc709837d",
   "metadata": {},
   "source": [
    "Use iris flower dataset from sklearn library and use cross_val_score against following models to measure the performance of each. In the end figure out the model with best performance,\n",
    "\n",
    "Logistic Regression,\n",
    "SVM,\n",
    "Decision Tree,\n",
    "Random Forest"
   ]
  },
  {
   "cell_type": "code",
   "execution_count": 22,
   "id": "1e45f0ba-7c36-4724-811b-24982291d514",
   "metadata": {},
   "outputs": [],
   "source": [
    "from sklearn.linear_model import LogisticRegression\n",
    "from sklearn.svm import SVC\n",
    "from sklearn.ensemble import RandomForestClassifier\n",
    "from sklearn.tree import DecisionTreeClassifier\n",
    "import numpy as np\n",
    "from sklearn.datasets import load_iris\n",
    "iris = load_iris()"
   ]
  },
  {
   "cell_type": "code",
   "execution_count": 3,
   "id": "cd3cf709-f23e-4259-beeb-32750b67606a",
   "metadata": {},
   "outputs": [],
   "source": [
    "from sklearn.model_selection import cross_val_score\n"
   ]
  },
  {
   "cell_type": "markdown",
   "id": "d9fc03da-4a67-42bc-8fff-1239875c83a0",
   "metadata": {},
   "source": [
    "# Logistic Regression score"
   ]
  },
  {
   "cell_type": "code",
   "execution_count": 15,
   "id": "91df7905-79eb-4395-9fd1-49c0c1cddbef",
   "metadata": {},
   "outputs": [
    {
     "name": "stderr",
     "output_type": "stream",
     "text": [
      "C:\\Users\\aakri\\AppData\\Local\\Programs\\Python\\Python311\\Lib\\site-packages\\sklearn\\linear_model\\_logistic.py:469: ConvergenceWarning: lbfgs failed to converge (status=1):\n",
      "STOP: TOTAL NO. of ITERATIONS REACHED LIMIT.\n",
      "\n",
      "Increase the number of iterations (max_iter) or scale the data as shown in:\n",
      "    https://scikit-learn.org/stable/modules/preprocessing.html\n",
      "Please also refer to the documentation for alternative solver options:\n",
      "    https://scikit-learn.org/stable/modules/linear_model.html#logistic-regression\n",
      "  n_iter_i = _check_optimize_result(\n"
     ]
    },
    {
     "data": {
      "text/plain": [
       "array([0.98, 0.96, 0.98])"
      ]
     },
     "execution_count": 15,
     "metadata": {},
     "output_type": "execute_result"
    }
   ],
   "source": [
    "lr=cross_val_score(LogisticRegression(), iris.data, iris.target,cv=3)\n",
    "lr\n"
   ]
  },
  {
   "cell_type": "code",
   "execution_count": 18,
   "id": "b27e49af-68cf-46a5-9771-602fe3e9a940",
   "metadata": {},
   "outputs": [
    {
     "data": {
      "text/plain": [
       "0.9733333333333333"
      ]
     },
     "execution_count": 18,
     "metadata": {},
     "output_type": "execute_result"
    }
   ],
   "source": [
    "np.average(lr)\n"
   ]
  },
  {
   "cell_type": "markdown",
   "id": "7465ab3b-ea95-4680-abdb-7cbc17c03f16",
   "metadata": {},
   "source": [
    "# SVM score"
   ]
  },
  {
   "cell_type": "code",
   "execution_count": 19,
   "id": "02d658b3-553a-430b-a760-d7a31e7c9875",
   "metadata": {},
   "outputs": [
    {
     "data": {
      "text/plain": [
       "array([0.96, 0.98, 0.94])"
      ]
     },
     "execution_count": 19,
     "metadata": {},
     "output_type": "execute_result"
    }
   ],
   "source": [
    "svc=cross_val_score(SVC(), iris.data, iris.target,cv=3)\n",
    "svc\n"
   ]
  },
  {
   "cell_type": "code",
   "execution_count": 20,
   "id": "316f35a5-9989-460e-9ace-8f570b67873c",
   "metadata": {},
   "outputs": [
    {
     "data": {
      "text/plain": [
       "0.96"
      ]
     },
     "execution_count": 20,
     "metadata": {},
     "output_type": "execute_result"
    }
   ],
   "source": [
    "np.average(svc)\n"
   ]
  },
  {
   "cell_type": "markdown",
   "id": "70a777ed-92bf-495f-8193-c1563d967063",
   "metadata": {},
   "source": [
    "# Decision Tree score"
   ]
  },
  {
   "cell_type": "code",
   "execution_count": 28,
   "id": "87b8b157-7269-4c9b-a8e6-846e7cfe18ce",
   "metadata": {},
   "outputs": [
    {
     "data": {
      "text/plain": [
       "array([0.98, 0.92, 1.  ])"
      ]
     },
     "execution_count": 28,
     "metadata": {},
     "output_type": "execute_result"
    }
   ],
   "source": [
    "d_scores = cross_val_score(DecisionTreeClassifier(), iris.data, iris.target,cv=3)\n",
    "d_scores"
   ]
  },
  {
   "cell_type": "code",
   "execution_count": 29,
   "id": "4f7ad20c-6cb4-4555-94c0-fd3c3d5202d8",
   "metadata": {},
   "outputs": [
    {
     "data": {
      "text/plain": [
       "0.9666666666666667"
      ]
     },
     "execution_count": 29,
     "metadata": {},
     "output_type": "execute_result"
    }
   ],
   "source": [
    "np.average(d_scores)\n"
   ]
  },
  {
   "cell_type": "markdown",
   "id": "fe5b040a-c205-4064-9653-eecf0dc49f22",
   "metadata": {},
   "source": [
    "# Random Forest score"
   ]
  },
  {
   "cell_type": "code",
   "execution_count": 30,
   "id": "70257aff-264f-4470-a9cc-63fdd070f0ca",
   "metadata": {},
   "outputs": [
    {
     "data": {
      "text/plain": [
       "array([0.98, 0.94, 0.96])"
      ]
     },
     "execution_count": 30,
     "metadata": {},
     "output_type": "execute_result"
    }
   ],
   "source": [
    "r = cross_val_score(RandomForestClassifier(n_estimators=40), iris.data, iris.target,cv=3)\n",
    "r"
   ]
  },
  {
   "cell_type": "code",
   "execution_count": 31,
   "id": "2a03ee5e-d9ac-44cc-8b2e-946c443816be",
   "metadata": {},
   "outputs": [
    {
     "data": {
      "text/plain": [
       "0.96"
      ]
     },
     "execution_count": 31,
     "metadata": {},
     "output_type": "execute_result"
    }
   ],
   "source": [
    "np.average(r)\n"
   ]
  },
  {
   "cell_type": "markdown",
   "id": "3bab057a-1667-4555-92b5-9ea10b1389a8",
   "metadata": {},
   "source": [
    "## Best performed by Linear Regression"
   ]
  },
  {
   "cell_type": "code",
   "execution_count": null,
   "id": "346172fc-52f8-43d0-8be5-f1ca0d5a9a0f",
   "metadata": {},
   "outputs": [],
   "source": []
  }
 ],
 "metadata": {
  "kernelspec": {
   "display_name": "Python 3 (ipykernel)",
   "language": "python",
   "name": "python3"
  },
  "language_info": {
   "codemirror_mode": {
    "name": "ipython",
    "version": 3
   },
   "file_extension": ".py",
   "mimetype": "text/x-python",
   "name": "python",
   "nbconvert_exporter": "python",
   "pygments_lexer": "ipython3",
   "version": "3.11.2"
  }
 },
 "nbformat": 4,
 "nbformat_minor": 5
}
